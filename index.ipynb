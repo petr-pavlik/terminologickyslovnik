{
  "cells": [
    {
      "cell_type": "raw",
      "metadata": {},
      "source": [
        "---\n",
        "title: \"WARM-ET\"\n",
        "format:\n",
        "  html:\n",
        "    toc: false\n",
        "---"
      ],
      "id": "5ce907c0"
    },
    {
      "cell_type": "markdown",
      "metadata": {},
      "source": [
        "## Vliv změny klimatu na evapotranspiraci a vodní bilanci v krajině v kontextu zabezpečenosti a udržitelnosti vodních zdrojů\n",
        "\n",
        "Účelem slovníku je poskytnout jednoduchou oporu ve výkladu pojmů evapotranspirace, a tím zamezení jejich nesprávného výkladu.\n",
        "\n",
        "## Fotogalerie\n",
        "\n",
        "<div id=\"mainCarousel\" class=\"carousel slide\" data-bs-ride=\"carousel\">\n",
        "  <div class=\"carousel-indicators\">\n",
        "    <button type=\"button\" data-bs-target=\"#mainCarousel\" data-bs-slide-to=\"0\" class=\"active\"></button>\n",
        "    <button type=\"button\" data-bs-target=\"#mainCarousel\" data-bs-slide-to=\"1\"></button>\n",
        "    <button type=\"button\" data-bs-target=\"#mainCarousel\" data-bs-slide-to=\"2\"></button>\n",
        "  </div>\n",
        "\n",
        "  <div class=\"carousel-inner\">\n",
        "    <div class=\"carousel-item active\">\n",
        "      <img src=\"images/LOGO_VUV.png\" class=\"d-block w-100\" alt=\"Slide 1\">\n",
        "    </div>\n",
        "    <div class=\"carousel-item\">\n",
        "      <img src=\"images/LOGO_CZU.png\" class=\"d-block w-100\" alt=\"Slide 2\">\n",
        "    </div>\n",
        "    <div class=\"carousel-item\">\n",
        "      <img src=\"images/LOGO_VUV.png\" class=\"d-block w-100\" alt=\"Slide 3\">\n",
        "    </div>\n",
        "  </div>\n",
        "\n",
        "  <button class=\"carousel-control-prev\" type=\"button\" data-bs-target=\"#mainCarousel\" data-bs-slide=\"prev\">\n",
        "    <span class=\"carousel-control-prev-icon\" aria-hidden=\"true\"></span>\n",
        "    <span class=\"visually-hidden\">Předchozí</span>\n",
        "  </button>\n",
        "  <button class=\"carousel-control-next\" type=\"button\" data-bs-target=\"#mainCarousel\" data-bs-slide=\"next\">\n",
        "    <span class=\"carousel-control-next-icon\" aria-hidden=\"true\"></span>\n",
        "    <span class=\"visually-hidden\">Další</span>\n",
        "  </button>\n",
        "</div>\n",
        "```{html}\n",
        "\n",
        "\n",
        "##### Autoři\n",
        "\n",
        "  - Milan Fischer ![](images/ORCIDiD_iconvector.svg){width=\"15\"}, Petr Máca ![](images/ORCIDiD_iconvector.svg){width=\"15\"}, Petr Pavlík ![](images/ORCIDiD_iconvector.svg){width=\"15\"}, ..."
      ],
      "id": "ee35c39b"
    }
  ],
  "metadata": {
    "kernelspec": {
      "display_name": "Python 3",
      "language": "python",
      "name": "python3"
    }
  },
  "nbformat": 4,
  "nbformat_minor": 5
}